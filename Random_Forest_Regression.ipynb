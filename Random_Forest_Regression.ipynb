{
 "cells": [
  {
   "cell_type": "code",
   "execution_count": 6,
   "metadata": {},
   "outputs": [],
   "source": [
    "import pandas as pd\n",
    "from sklearn.ensemble import RandomForestRegressor\n",
    "from sklearn.model_selection import train_test_split\n",
    "from sklearn.metrics import mean_squared_error\n",
    "import numpy as np\n",
    "import matplotlib.pyplot as plt\n"
   ]
  },
  {
   "cell_type": "code",
   "execution_count": 7,
   "metadata": {},
   "outputs": [],
   "source": [
    "df = pd.read_csv('df_merged.csv')"
   ]
  },
  {
   "cell_type": "code",
   "execution_count": 8,
   "metadata": {},
   "outputs": [],
   "source": [
    "X = df[['建物現況格局-房', '建物現況格局-廳', '建物現況格局-衛', '建物現況格局-隔間', '有無管理組織', '電梯', '預售屋',\n",
    "        '建築完成距今', '鄉鎮市區_中山區', '鄉鎮市區_中正區', '鄉鎮市區_信義區', '鄉鎮市區_內湖區',\n",
    "        '鄉鎮市區_北投區', '鄉鎮市區_南港區', '鄉鎮市區_士林區', '鄉鎮市區_大同區', '鄉鎮市區_大安區', '鄉鎮市區_文山區',\n",
    "        '鄉鎮市區_松山區', '鄉鎮市區_萬華區', '交易土地', '交易建物', '交易車位', '交易距今', '路段', '移轉層次-數字',\n",
    "        '建物型態_住宅大樓(11層含以上有電梯)', '建物型態_公寓(5樓含以下無電梯)', '建物型態_其他', '建物型態_套房(1房1廳1衛)',\n",
    "        '建物型態_店面(店鋪)', '建物型態_廠辦', '建物型態_華廈(10層含以下有電梯)', '建物型態_辦公商業大樓', '建物型態_透天厝']]\n",
    "\n",
    "y = df['單價元平方公尺']"
   ]
  },
  {
   "cell_type": "code",
   "execution_count": 12,
   "metadata": {},
   "outputs": [
    {
     "name": "stdout",
     "output_type": "stream",
     "text": [
      "10 100 25 3711699.0053516133\n",
      "30 100 25 2977115.52259687\n",
      "50 100 25 1381589.223072247\n",
      "90 100 25 421519.34117688314\n",
      "Best Train size= 0.9  best tree number= 100  best max depth= 25 Besr RMSE: 421519.34117688314\n"
     ]
    }
   ],
   "source": [
    "ratiovalues = [i for i in range(10, 100, 20)]\n",
    "\n",
    "max_depth = 100\n",
    "depthvalues = [i for i in range(25, max_depth+1, 25)]\n",
    "\n",
    "max_tree_number = 1000\n",
    "tree_number = [i for i in range(100, max_tree_number + 1, 300)]\n",
    "\n",
    "best_depth = ''\n",
    "best_tree_number = ''\n",
    "best_train_size = ''\n",
    "best_rmse = 1000000000\n",
    "\n",
    "for j in ratiovalues:\n",
    "    X_train, X_test, y_train, y_test = train_test_split(X, y, train_size= j/100, random_state=42)\n",
    "\n",
    "\n",
    "    for k in tree_number:\n",
    "        for l in depthvalues:\n",
    "            rf = RandomForestRegressor(n_estimators= j, max_depth= l, random_state=42)\n",
    "            rf.fit(X_train, y_train)\n",
    "            y_pred = rf.predict(X_test)\n",
    "            rmse = np.sqrt(mean_squared_error(y_test, y_pred))\n",
    "\n",
    "            if rmse < best_rmse:\n",
    "                best_rmse = rmse\n",
    "                best_depth = str(l)\n",
    "                best_tree_number = str(k)\n",
    "                best_train_size = str(j/100)\n",
    "\n",
    "                print(j,k,l,best_rmse)\n",
    "\n",
    "\n",
    "print('Best Train size=', best_train_size, ' best tree number=', best_tree_number, ' best max depth=', best_depth + ' Besr RMSE:', best_rmse)\n"
   ]
  }
 ],
 "metadata": {
  "kernelspec": {
   "display_name": "Python 3",
   "language": "python",
   "name": "python3"
  },
  "language_info": {
   "codemirror_mode": {
    "name": "ipython",
    "version": 3
   },
   "file_extension": ".py",
   "mimetype": "text/x-python",
   "name": "python",
   "nbconvert_exporter": "python",
   "pygments_lexer": "ipython3",
   "version": "3.10.10"
  },
  "orig_nbformat": 4
 },
 "nbformat": 4,
 "nbformat_minor": 2
}
